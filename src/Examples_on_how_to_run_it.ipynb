{
 "cells": [
  {
   "attachments": {},
   "cell_type": "markdown",
   "metadata": {},
   "source": [
    "## Example on how to run the software\n",
    "\n",
    "Run the first cell first to import modules and set paths\n"
   ]
  },
  {
   "cell_type": "code",
   "execution_count": 2,
   "metadata": {},
   "outputs": [],
   "source": [
    "import os\n",
    "from gnssmultipath import GNSS_MultipathAnalysis\n",
    "\n",
    "base_path = os.getcwd()\n",
    "parent_dir = os.path.abspath(os.path.join(base_path, os.pardir))\n",
    "\n",
    "## Path to TestData\n",
    "path_to_testdata = os.path.join(parent_dir, 'TestData')\n",
    "ouputdir = os.path.join(parent_dir, 'Results')\n",
    "\n",
    "\n"
   ]
  },
  {
   "attachments": {},
   "cell_type": "markdown",
   "metadata": {},
   "source": [
    "#### Define the path to the RINEX observation file and the SP3 or navigation file\n"
   ]
  },
  {
   "cell_type": "code",
   "execution_count": null,
   "metadata": {},
   "outputs": [],
   "source": [
    "rinObsFilename1 = os.path.join(path_to_testdata, 'ObservationFiles', 'OPEC00NOR_S_20220010000_01D_30S_MO_3.04.rnx')\n",
    "broadcastNav4 = os.path.join(path_to_testdata, 'NavigationFiles', 'BRDC00IGS_R_20220010000_01D_MN.rnx')\n"
   ]
  },
  {
   "attachments": {},
   "cell_type": "markdown",
   "metadata": {},
   "source": [
    "#### Run the software with mandatory arguments only\n"
   ]
  },
  {
   "cell_type": "code",
   "execution_count": null,
   "metadata": {},
   "outputs": [],
   "source": [
    "analysisResults = GNSS_MultipathAnalysis(rinObsFilename1,\n",
    "                                         broadcastNav1=broadcastNav4)"
   ]
  },
  {
   "attachments": {},
   "cell_type": "markdown",
   "metadata": {},
   "source": [
    "####  Advanced example (more user defined settings)"
   ]
  },
  {
   "cell_type": "code",
   "execution_count": null,
   "metadata": {},
   "outputs": [],
   "source": [
    "## Parameters\n",
    "GNSSsystems                 = [\"R\"] # run analysis in GLONASS only\n",
    "phaseCodeLimit              = 6.667\n",
    "ionLimit                    = 0.0667\n",
    "cutoff_elevation_angle      = 10 # 10 degree elevation cutoff\n",
    "outputDir                   = ouputdir\n",
    "plotEstimates               = True\n",
    "plot_polarplot              = True\n",
    "includeResultSummary        = True\n",
    "includeCompactSummary       = True\n",
    "includeObservationOverview  = True\n",
    "includeLLIOverview          = True\n",
    "\n",
    "\n",
    "## Rinex observation file\n",
    "rinObsFilename1 = path_to_testdata  + '/ObservationFiles/' + 'OPEC00NOR_S_20220010000_01D_30S_MO_3.04.rnx'\n",
    "## SP3 files\n",
    "sp3NavFilename_1_opec = path_to_testdata  + '/SP3/' + 'Testfile_20220101.eph'\n",
    "\n",
    "analysisResults = GNSS_MultipathAnalysis(rinObsFilename1,\n",
    "                       desiredGNSSsystems=GNSSsystems,\n",
    "                       sp3NavFilename_1 = sp3NavFilename_1_opec,\n",
    "                       phaseCodeLimit = phaseCodeLimit,\n",
    "                       ionLimit = ionLimit,\n",
    "                       cutoff_elevation_angle = cutoff_elevation_angle,\n",
    "                       outputDir = outputDir,\n",
    "                       plotEstimates = plotEstimates,\n",
    "                       plot_polarplot=plot_polarplot,\n",
    "                       includeResultSummary = includeResultSummary,\n",
    "                       includeCompactSummary = includeCompactSummary,\n",
    "                       includeObservationOverview = includeObservationOverview,\n",
    "                       includeLLIOverview = includeLLIOverview\n",
    "                       )"
   ]
  },
  {
   "attachments": {},
   "cell_type": "markdown",
   "metadata": {},
   "source": [
    "How to read in a uncompressed result file in the pickle format"
   ]
  },
  {
   "cell_type": "code",
   "execution_count": null,
   "metadata": {},
   "outputs": [],
   "source": [
    "# How to read in the result file from a analysis (UNCOMPRESSED)\n",
    "from gnssmultipath import PickleHandler\n",
    "path_to_resFile = os.path.join(ouputdir, 'analysisResults.pkl')\n",
    "loaded_dictionary = PickleHandler.read_pickle(path_to_resFile)"
   ]
  },
  {
   "cell_type": "markdown",
   "metadata": {},
   "source": [
    "How to read in a compressed result file in the pickle format"
   ]
  },
  {
   "cell_type": "code",
   "execution_count": null,
   "metadata": {},
   "outputs": [],
   "source": [
    "# How to read in the result file from a analysis (COMPRESSED)\n",
    "from gnssmultipath import PickleHandler\n",
    "path_to_resFile = os.path.join(ouputdir, 'analysisResults.pkl')\n",
    "loaded_dictionary = PickleHandler.read_zstd_pickle(path_to_resFile)"
   ]
  },
  {
   "cell_type": "markdown",
   "metadata": {},
   "source": [
    "How to read a RINEX observation file"
   ]
  },
  {
   "cell_type": "code",
   "execution_count": null,
   "metadata": {},
   "outputs": [],
   "source": [
    "from gnssmultipath import readRinexObs\n",
    "GNSS_obs, GNSS_LLI, GNSS_SS, GNSS_SVs, time_epochs, nepochs, GNSSsystems,\\\n",
    "        obsCodes, approxPosition, max_sat, tInterval, markerName, rinexVersion, recType, timeSystem, leapSec, gnssType,\\\n",
    "        rinexProgr, rinexDate, antDelta, tFirstObs, tLastObs, clockOffsetsON, GLO_Slot2ChannelMap, success = readRinexObs(rinObsFilename1)\n"
   ]
  },
  {
   "cell_type": "markdown",
   "metadata": {},
   "source": [
    "How to read a RINEX navigation file"
   ]
  },
  {
   "cell_type": "code",
   "execution_count": null,
   "metadata": {},
   "outputs": [],
   "source": [
    "from gnssmultipath import Rinex_v3_Reader\n",
    "\n",
    "navdata = Rinex_v3_Reader().read_rinex_nav(broadcastNav4, data_rate = 120)"
   ]
  },
  {
   "cell_type": "code",
   "execution_count": null,
   "metadata": {},
   "outputs": [
    {
     "name": "stdout",
     "output_type": "stream",
     "text": [
      "INFO(rinexReadObsFileHeader304): Rinex header has been read\n"
     ]
    },
    {
     "name": "stderr",
     "output_type": "stream",
     "text": [
      "Rinex observations are being read: 100%|██████████| (100/100)\n"
     ]
    },
    {
     "name": "stdout",
     "output_type": "stream",
     "text": [
      "INFO(readRinexObs304): The following GNSS systems have been read into the data: GPS, GLONASS, Galileo, Beidou\n",
      "INFO(readRinexObs304): The following GPS observation types have been registered: C1C, L1C, C1P, C2W, L2W, C2X, L2X, C5X, L5X\n",
      "INFO(readRinexObs304): The following GLONASS observation types have been registered: C1C, L1C, C1P, L1P, C2P, L2P, C2C, L2C\n",
      "INFO(readRinexObs304): The following Galileo observation types have been registered: C1X, L1X, C7X, L7X, C5X, L5X, C8X, L8X\n",
      "INFO(readRinexObs304): The following Beidou observation types have been registered: C2X, L2X, C7X, L7X, C6X, L6X\n",
      "INFO(readRinexObs304): LLI have been read (if present in observation file)\n",
      "INFO(readRinexObs304): SS have been read (if present in observation file)\n",
      "INFO(readRinexObs304): Total processing time: 0.359375 seconds\n",
      "\n",
      "\n"
     ]
    },
    {
     "name": "stderr",
     "output_type": "stream",
     "text": [
      "Rinex navigation file is being read: 100%|██████████| (100/100)\n"
     ]
    },
    {
     "name": "stdout",
     "output_type": "stream",
     "text": [
      "INFO(rinexReadObsFileHeader304): Rinex header has been read\n"
     ]
    },
    {
     "name": "stderr",
     "output_type": "stream",
     "text": [
      "Rinex observations are being read: 100%|██████████| (100/100)\n"
     ]
    },
    {
     "name": "stdout",
     "output_type": "stream",
     "text": [
      "INFO(readRinexObs304): The following GNSS systems have been read into the data: GPS, GLONASS, Galileo, Beidou\n",
      "INFO(readRinexObs304): The following GPS observation types have been registered: C1C, L1C, C1P, C2W, L2W, C2X, L2X, C5X, L5X\n",
      "INFO(readRinexObs304): The following GLONASS observation types have been registered: C1C, L1C, C1P, L1P, C2P, L2P, C2C, L2C\n",
      "INFO(readRinexObs304): The following Galileo observation types have been registered: C1X, L1X, C7X, L7X, C5X, L5X, C8X, L8X\n",
      "INFO(readRinexObs304): The following Beidou observation types have been registered: C2X, L2X, C7X, L7X, C6X, L6X\n",
      "INFO(readRinexObs304): LLI have been read (if present in observation file)\n",
      "INFO(readRinexObs304): SS have been read (if present in observation file)\n",
      "INFO(readRinexObs304): Total processing time: 0.375000 seconds\n",
      "\n",
      "\n",
      "Results using a SP3 file:  [3149789.384, 598261.601, 5495362.907]\n",
      "Results using a Rinex navigation file:  [3149790.921, 598260.984, 5495360.101]\n"
     ]
    }
   ],
   "source": [
    "from gnssmultipath.GNSSPositionEstimator import GNSSPositionEstimator\n",
    "import numpy as np\n",
    "\n",
    "rinObs = path_to_testdata  + \"/ObservationFiles/OPEC00NOR_S_20220010000_01D_30S_MO_3.04_croped.rnx\"\n",
    "sp3 = path_to_testdata  + \"/SP3/Testfile_20220101.eph\"\n",
    "rinNav = path_to_testdata  + \"/NavigationFiles/BRDC00IGS_R_20220010000_01D_MN.rnx\"\n",
    "\n",
    "desired_time = np.array([2022, 1, 1, 1, 5, 30.0000000])\n",
    "desired_system = \"G\"  # GPS\n",
    "\n",
    "# Estimate receiver postion using SP3 file\n",
    "gnsspos, stats = GNSSPositionEstimator(rinObs,\n",
    "                                    sp3_file = sp3,\n",
    "                                    desired_time = desired_time,\n",
    "                                    desired_system = desired_system,\n",
    "                                    elevation_cut_off_angle = 10).estimate_position()\n",
    "\n",
    "# Estimate receiver postion using broadcast ephemeris (Rinex navigation)\n",
    "gnsspos_nav, stats_nav = GNSSPositionEstimator(rinObs,\n",
    "                                    rinex_nav_file=rinNav,\n",
    "                                    desired_time = desired_time,\n",
    "                                    desired_system = desired_system,\n",
    "                                    elevation_cut_off_angle = 10).estimate_position()\n",
    "\n",
    "res_sp3 = np.round(gnsspos[:-1], 3)\n",
    "print(\"Results using a SP3 file: \", res_sp3.tolist())\n",
    "\n",
    "diff_nav = np.round(gnsspos_nav[:-1], 3)\n",
    "print(\"Results using a Rinex navigation file: \", diff_nav.tolist())"
   ]
  }
 ],
 "metadata": {
  "kernelspec": {
   "display_name": "Python 3",
   "language": "python",
   "name": "python3"
  },
  "language_info": {
   "codemirror_mode": {
    "name": "ipython",
    "version": 3
   },
   "file_extension": ".py",
   "mimetype": "text/x-python",
   "name": "python",
   "nbconvert_exporter": "python",
   "pygments_lexer": "ipython3",
   "version": "3.8.8"
  },
  "orig_nbformat": 4
 },
 "nbformat": 4,
 "nbformat_minor": 2
}
